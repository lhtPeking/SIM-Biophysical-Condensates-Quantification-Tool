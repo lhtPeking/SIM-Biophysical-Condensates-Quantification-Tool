{
 "cells": [
  {
   "cell_type": "code",
   "execution_count": 1,
   "metadata": {},
   "outputs": [
    {
     "name": "stdout",
     "output_type": "stream",
     "text": [
      "(135, 512, 512) (9, 1024, 1024)\n"
     ]
    }
   ],
   "source": [
    "import os\n",
    "import shutil\n",
    "import numpy as np\n",
    "import matplotlib.pyplot as plt\n",
    "from tkinter import filedialog\n",
    "from tkinter import Tk\n",
    "import json\n",
    "import tifffile as tfi\n",
    "from matplotlib.widgets import PolygonSelector\n",
    "from skimage.draw import polygon2mask\n",
    "from skimage.transform import resize\n",
    "\n",
    "arr_1 = tfi.imread(\"/Users/haotianli/Code/SIM/2_Frequency_Domain_Checked/SI_1.518_GFP/C2-SI_1.518_GFP_02/C2-SI_1.518_GFP_02_ori.tif\")\n",
    "arr_2 = tfi.imread(\"/Users/haotianli/Code/SIM/2_Frequency_Domain_Checked/SI_1.518_GFP/C2-SI_1.518_GFP_02/C2-SI_1.518_GFP_02_recon.tif\")\n",
    "print(arr_1.shape, arr_2.shape)"
   ]
  }
 ],
 "metadata": {
  "kernelspec": {
   "display_name": "SIM",
   "language": "python",
   "name": "python3"
  },
  "language_info": {
   "codemirror_mode": {
    "name": "ipython",
    "version": 3
   },
   "file_extension": ".py",
   "mimetype": "text/x-python",
   "name": "python",
   "nbconvert_exporter": "python",
   "pygments_lexer": "ipython3",
   "version": "3.13.5"
  }
 },
 "nbformat": 4,
 "nbformat_minor": 2
}
